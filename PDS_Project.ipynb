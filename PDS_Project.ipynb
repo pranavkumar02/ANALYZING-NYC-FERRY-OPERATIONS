{
  "nbformat": 4,
  "nbformat_minor": 0,
  "metadata": {
    "colab": {
      "private_outputs": true,
      "provenance": []
    },
    "kernelspec": {
      "name": "python3",
      "display_name": "Python 3"
    },
    "language_info": {
      "name": "python"
    }
  },
  "cells": [
    {
      "cell_type": "code",
      "execution_count": null,
      "metadata": {
        "id": "IjRbtWs0c27Q"
      },
      "outputs": [],
      "source": [
        "import pandas as pd\n",
        "import numpy as np\n",
        "import matplotlib.pyplot as plt\n",
        "import seaborn as sns\n",
        "from sklearn.model_selection import train_test_split\n",
        "from sklearn.preprocessing import LabelEncoder, StandardScaler\n",
        "from sklearn.ensemble import RandomForestRegressor\n",
        "from sklearn.metrics import mean_absolute_error, mean_squared_error"
      ]
    },
    {
      "cell_type": "code",
      "source": [
        "df=pd.read_csv('/content/NYC_Ferry_Ridership_20250325.csv')"
      ],
      "metadata": {
        "id": "HENa6fn6dCRw"
      },
      "execution_count": null,
      "outputs": []
    },
    {
      "cell_type": "code",
      "source": [
        "df.head()"
      ],
      "metadata": {
        "id": "NaDLiSZeeF5J"
      },
      "execution_count": null,
      "outputs": []
    },
    {
      "cell_type": "code",
      "source": [
        "df.info()"
      ],
      "metadata": {
        "id": "lwfrAPsueI3F"
      },
      "execution_count": null,
      "outputs": []
    },
    {
      "cell_type": "code",
      "source": [
        "df.describe()"
      ],
      "metadata": {
        "id": "-PcTjfPYeQTl"
      },
      "execution_count": null,
      "outputs": []
    },
    {
      "cell_type": "code",
      "source": [
        "df.isnull().sum()"
      ],
      "metadata": {
        "id": "YJbnB_yTeThm"
      },
      "execution_count": null,
      "outputs": []
    },
    {
      "cell_type": "code",
      "source": [
        "df.dropna(inplace=True)"
      ],
      "metadata": {
        "id": "ib2VCd0V5aq5"
      },
      "execution_count": null,
      "outputs": []
    },
    {
      "cell_type": "code",
      "source": [
        "df.duplicated().sum()"
      ],
      "metadata": {
        "id": "Hs5HLflVeVP_"
      },
      "execution_count": null,
      "outputs": []
    },
    {
      "cell_type": "code",
      "source": [
        "df.drop('Stop',axis=1,inplace=True)"
      ],
      "metadata": {
        "id": "byzat1qkwg9f"
      },
      "execution_count": null,
      "outputs": []
    },
    {
      "cell_type": "code",
      "source": [
        "df['Route'].unique()"
      ],
      "metadata": {
        "id": "J-cgUrgeeqCd"
      },
      "execution_count": null,
      "outputs": []
    },
    {
      "cell_type": "code",
      "source": [
        "df['Route'].value_counts()"
      ],
      "metadata": {
        "id": "-euTsKbMftfB"
      },
      "execution_count": null,
      "outputs": []
    },
    {
      "cell_type": "code",
      "source": [
        "df=df[df['Route']!='RR']"
      ],
      "metadata": {
        "id": "P40BqEf1ncBU"
      },
      "execution_count": null,
      "outputs": []
    },
    {
      "cell_type": "code",
      "source": [
        "Route_mapping={'SB':'South Brooklyn','AS':'Astoria','ER':'East River','SV':'Soundview','SG':'St. George','RW':'Rockaway','GI':'Governors Island'}"
      ],
      "metadata": {
        "id": "ko4-0RV1kwm-"
      },
      "execution_count": null,
      "outputs": []
    },
    {
      "cell_type": "code",
      "source": [
        "df['Route']=df['Route'].map(Route_mapping)"
      ],
      "metadata": {
        "id": "JtKFugnFn_PM"
      },
      "execution_count": null,
      "outputs": []
    },
    {
      "cell_type": "code",
      "source": [
        "Direction_mapping={'NB':0,'SB':1}"
      ],
      "metadata": {
        "id": "l8dsAQOQllPX"
      },
      "execution_count": null,
      "outputs": []
    },
    {
      "cell_type": "code",
      "source": [
        "df['Direction']=df['Direction'].map(Direction_mapping)"
      ],
      "metadata": {
        "id": "NxLddEpqcVLt"
      },
      "execution_count": null,
      "outputs": []
    },
    {
      "cell_type": "code",
      "source": [
        "df['Date']=pd.to_datetime(df['Date'])"
      ],
      "metadata": {
        "id": "iacsBV_Hok2-"
      },
      "execution_count": null,
      "outputs": []
    },
    {
      "cell_type": "code",
      "source": [
        "df.head()"
      ],
      "metadata": {
        "id": "xYiB8fMhqJOK"
      },
      "execution_count": null,
      "outputs": []
    },
    {
      "cell_type": "code",
      "source": [
        "df_weekdays = df[df['Date'].dt.weekday < 5]  # Weekdays are 0 to 4 (Monday to Friday)\n",
        "\n",
        "# Group by route and date, then sum the boardings for each day\n",
        "df_route_weekday = df_weekdays.groupby(['Route', 'Date'])['Boardings'].sum().reset_index()\n",
        "\n",
        "# Calculate the average daily boardings for each route on weekdays\n",
        "avg_daily_boardings_weekday = df_route_weekday.groupby('Route')['Boardings'].mean()\n",
        "avg_daily_boardings_weekday_sorted = avg_daily_boardings_weekday.sort_values(ascending=False)\n",
        "#Plotting the Bar Graph of Average Daily Boardings for Each Route on Weekdays\n",
        "plt.figure(figsize=(10, 6))\n",
        "sns.barplot(y=avg_daily_boardings_weekday_sorted.index, x=avg_daily_boardings_weekday_sorted.values, color='lightcoral')\n",
        "\n",
        "plt.xlabel('Average Daily Boardings')\n",
        "plt.title('Average Daily Boardings for Each Route on Weekdays')\n",
        "plt.show()"
      ],
      "metadata": {
        "id": "5GfmZdRWqVT9"
      },
      "execution_count": null,
      "outputs": []
    },
    {
      "cell_type": "code",
      "source": [
        "route_daily_operations = df_weekdays.groupby(['Date', 'Route']).size().reset_index(name='Operation Count')\n",
        "\n",
        "# Compute average operations per route\n",
        "avg_route_operations = route_daily_operations.groupby('Route')['Operation Count'].mean().reset_index()\n",
        "avg_route_operations=avg_route_operations.sort_values(by='Operation Count',ascending=False)\n",
        "# Rename columns for clarity\n",
        "avg_route_operations.columns = ['Route', 'Avg Operations Per Day']\n",
        "\n",
        "# Set figure size\n",
        "plt.figure(figsize=(10, 5))\n",
        "\n",
        "# Plot bar chart\n",
        "sns.barplot(data=avg_route_operations, y='Route', x='Avg Operations Per Day',color='lightblue')\n",
        "\n",
        "# Add title and labels\n",
        "plt.title('Daily operations  Each Route Operates Per Day on Weekdays')\n",
        "plt.ylabel('Route')\n",
        "plt.xlabel('Average Operations Per Day')\n",
        "# Show plot\n",
        "plt.show()"
      ],
      "metadata": {
        "id": "KT4E4PI3-lOe"
      },
      "execution_count": null,
      "outputs": []
    },
    {
      "cell_type": "code",
      "source": [
        "from matplotlib.ticker import FuncFormatter\n",
        "def format_func(value, tick_number):\n",
        "    if value >= 1000:\n",
        "        return f'{int(value/1000)}K'  # Convert to 'K' notation\n",
        "    return int(value)\n",
        "\n",
        "plt.gca().yaxis.set_major_formatter(FuncFormatter(format_func))"
      ],
      "metadata": {
        "id": "V8IwRa15fuLM"
      },
      "execution_count": null,
      "outputs": []
    },
    {
      "cell_type": "code",
      "source": [
        "hourly_data = df.groupby(['Hour','Direction'])['Boardings'].sum().unstack()\n",
        "\n",
        "# Plot bar chart\n",
        "plt.figure(figsize=(12, 6))\n",
        "hourly_data.plot(kind='bar', stacked=False,width=0.8, colormap='coolwarm')\n",
        "\n",
        "# Labels and title\n",
        "plt.xlabel(\"Hour of the Day\")\n",
        "plt.ylabel(\"Total Boardings\")\n",
        "plt.title(\"Hourly Boardings Based on Direction\")\n",
        "plt.xticks(rotation=0)\n",
        "plt.gca().yaxis.set_major_formatter(FuncFormatter(format_func))\n",
        "plt.legend([\"Southbound\", \"Northbound\"], title=\"Direction\")"
      ],
      "metadata": {
        "id": "4szSkCjuc5da"
      },
      "execution_count": null,
      "outputs": []
    },
    {
      "cell_type": "code",
      "source": [
        "avg_hourly_boardings = df_weekdays.groupby(['Route','Hour'])['Boardings'].mean().reset_index()\n",
        "avg_hourly_boardings['Hour-Route'] = avg_hourly_boardings['Hour'].astype(str) + ' - ' + avg_hourly_boardings['Route']\n",
        "\n",
        "\n",
        "plt.figure(figsize=(12, 6))\n",
        "sns.barplot(data=avg_hourly_boardings,x='Hour',y='Boardings',hue='Route',dodge=True)\n",
        "# Add title and labels\n",
        "plt.title('Average Hourly Boardings per Route on Weekdays')\n",
        "plt.xlabel('Hour of the Day')\n",
        "plt.ylabel('Average Boardings')\n",
        "plt.xticks(rotation=0)  # Keep hour labels horizontal for clarity\n",
        "plt.legend(title=\"Route\", bbox_to_anchor=(1.05, 1), loc='upper left')"
      ],
      "metadata": {
        "id": "18cke1ZSsYv1"
      },
      "execution_count": null,
      "outputs": []
    },
    {
      "cell_type": "code",
      "source": [
        "operations_per_hour_per_route = df_weekdays.groupby(['Hour', 'Route','Date']).size().reset_index(name='Operation Count')\n",
        "\n",
        "# Calculate the average operations per hour per route over all available weekdays\n",
        "avg_operations_per_hour_per_route = operations_per_hour_per_route.groupby(['Hour', 'Route'])['Operation Count'].mean().reset_index()\n",
        "\n",
        "# Set figure size\n",
        "plt.figure(figsize=(12, 6))\n",
        "\n",
        "# Create a grouped bar plot with routes for each hour\n",
        "sns.barplot(data=avg_operations_per_hour_per_route, x='Hour', y='Operation Count', hue='Route',dodge=True)\n",
        "\n",
        "# Add title and labels\n",
        "plt.title('Average Number of Operations Per Hour Per Route Per Day (Weekdays)')\n",
        "plt.xlabel('Hour of the Day')\n",
        "plt.ylabel('Average Operation Count')\n",
        "plt.xticks(rotation=0)  # Keep hour labels horizontal for clarity\n",
        "plt.legend(title=\"Route\", bbox_to_anchor=(1.05, 1), loc='upper left')  # Move legend to the side\n",
        "\n",
        "# Show plot\n",
        "plt.show()"
      ],
      "metadata": {
        "id": "E-o3rJgg98NP"
      },
      "execution_count": null,
      "outputs": []
    },
    {
      "cell_type": "markdown",
      "source": [],
      "metadata": {
        "id": "zps59cMV9o_h"
      }
    },
    {
      "cell_type": "code",
      "source": [
        "df['year'] = df['Date'].dt.year\n",
        "df['month'] = df['Date'].dt.month\n",
        "\n",
        "# Group by 'year' and 'month' and sum the 'boardings'\n",
        "monthly_boardings = df.groupby(['year', 'month'])['Boardings'].sum().reset_index()\n",
        "# Create a datetime column for the first day of each month\n",
        "monthly_boardings['date'] = pd.to_datetime(monthly_boardings[['month','year']].assign(day=1))\n",
        "\n",
        "# Sort the DataFrame by the 'date\n",
        "plt.figure(figsize=(12, 6))\n",
        "plt.plot(monthly_boardings['date'], monthly_boardings['Boardings'], marker='o', linestyle='-')\n",
        "plt.title('Yearly Total Boardings')\n",
        "plt.xlabel('Date')\n",
        "plt.ylabel('Total Boardings')\n",
        "plt.grid(True)\n",
        "plt.show()"
      ],
      "metadata": {
        "id": "_Kvb8i90KKEi"
      },
      "execution_count": null,
      "outputs": []
    },
    {
      "cell_type": "code",
      "source": [
        "# Extract temporal features\n",
        "df['Year'] = df['Date'].dt.year\n",
        "df['Month'] = df['Date'].dt.month\n",
        "df['Day'] = df['Date'].dt.day"
      ],
      "metadata": {
        "id": "CdcIEoQKw4mY"
      },
      "execution_count": null,
      "outputs": []
    },
    {
      "cell_type": "code",
      "source": [
        "# Encode categorical variables (stop, route, typeday)\n",
        "label_enc = LabelEncoder()\n",
        "df['Route'] = label_enc.fit_transform(df['Route'])\n",
        "df['TypeDay'] = label_enc.fit_transform(df['TypeDay'])\n",
        "\n",
        "# Define features (X) and target variable (Y)\n",
        "X = df[['Year','Month','Day','Hour','Route','Direction','TypeDay']]\n",
        "y = df['Boardings']"
      ],
      "metadata": {
        "id": "zEQ4rA118ULH"
      },
      "execution_count": null,
      "outputs": []
    },
    {
      "cell_type": "code",
      "source": [
        "X_train, X_test, y_train, y_test = train_test_split(X, y, test_size=0.2, random_state=42)"
      ],
      "metadata": {
        "id": "It9D-vc39fhG"
      },
      "execution_count": null,
      "outputs": []
    },
    {
      "cell_type": "code",
      "source": [
        "#model = RandomForestRegressor(n_estimators=300, random_state=42)\n",
        "#model.fit(X_train, y_train)"
      ],
      "metadata": {
        "id": "22rFHjNl9p5p"
      },
      "execution_count": null,
      "outputs": []
    },
    {
      "cell_type": "code",
      "source": [
        "from xgboost import XGBRegressor"
      ],
      "metadata": {
        "id": "yxPCPLnhHuwN"
      },
      "execution_count": null,
      "outputs": []
    },
    {
      "cell_type": "code",
      "source": [
        "xgb_model = XGBRegressor(n_estimators=300, learning_rate=0.05,subsample=0.8,colsample_bytree=0.8,max_depth=6, random_state=42)\n",
        "xgb_model.fit(X_train, y_train)"
      ],
      "metadata": {
        "id": "8k4wsqnaHfVy"
      },
      "execution_count": null,
      "outputs": []
    },
    {
      "cell_type": "code",
      "source": [
        "y_pred = xgb_model.predict(X_test)"
      ],
      "metadata": {
        "id": "0PJsC8Vj9t8G"
      },
      "execution_count": null,
      "outputs": []
    },
    {
      "cell_type": "code",
      "source": [
        "mae = mean_absolute_error(y_test, y_pred)\n",
        "mse = mean_squared_error(y_test, y_pred)\n",
        "rmse = np.sqrt(mse)\n",
        "\n",
        "print(f\"MAE: {mae}\")\n",
        "print(f\"RMSE: {rmse}\")"
      ],
      "metadata": {
        "id": "dlKKurIJ9xbk"
      },
      "execution_count": null,
      "outputs": []
    },
    {
      "cell_type": "code",
      "source": [
        "importances = xgb_model.feature_importances_\n",
        "feature_names = X.columns\n",
        "\n",
        "importances_df = pd.DataFrame({'Feature': feature_names, 'Importance': importances})\n",
        "\n",
        "# Sort the DataFrame based on importance values\n",
        "importances_df = importances_df.sort_values(by='Importance', ascending=True)\n",
        "\n",
        "# Plot using Seaborn\n",
        "plt.figure(figsize=(8, 5))\n",
        "sns.barplot(x='Importance', y='Feature', data=importances_df, palette=\"pastel\")\n",
        "plt.xlabel(\"Importance Score\")\n",
        "plt.ylabel(\"Feature\")\n",
        "plt.title(\"Feature Importance in Predicting Boardings\")\n",
        "plt.show()"
      ],
      "metadata": {
        "id": "aaQzoj7R-3-v"
      },
      "execution_count": null,
      "outputs": []
    }
  ]
}